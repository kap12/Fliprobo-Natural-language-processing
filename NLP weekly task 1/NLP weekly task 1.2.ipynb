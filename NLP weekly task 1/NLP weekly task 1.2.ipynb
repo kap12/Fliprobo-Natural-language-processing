{
 "cells": [
  {
   "cell_type": "markdown",
   "metadata": {},
   "source": [
    "### 2) Pick your choice of document and update the emotion document accordingly (you document words and associated emotion where applicable) and analyse the sentiments of people."
   ]
  },
  {
   "cell_type": "code",
   "execution_count": 1,
   "metadata": {},
   "outputs": [],
   "source": [
    "#Import required libraries\n",
    "import nltk\n",
    "import string\n",
    "import matplotlib.pyplot as plt\n",
    "from collections import Counter\n",
    "from nltk.corpus import stopwords\n",
    "from nltk.stem import WordNetLemmatizer\n",
    "from nltk.tokenize import word_tokenize\n",
    "from nltk.sentiment.vader import SentimentIntensityAnalyzer\n",
    "\n",
    "import warnings\n",
    "warnings.filterwarnings('ignore')"
   ]
  },
  {
   "cell_type": "code",
   "execution_count": 2,
   "metadata": {},
   "outputs": [
    {
     "name": "stdout",
     "output_type": "stream",
     "text": [
      "Introduction:\n",
      "\n",
      "My father is a person who takes care of my family and loves each one of us dearly. My father acts as the pillar of support and strength for my family.\n",
      "\n",
      "My Father:\n",
      "\n",
      "My father is the person that I admire the most in my life. I can never forget all the childhood memories that I have with him. It is safe for me to say that my father is largely the reason behind my present joy and happiness. I can say that I am the person who I am today and the person that I am growing to be, is all because of the influence he has had and is having on me. He always makes time to play with me and catch up on all the happenings in my life even after the hard work of the day.\n",
      "\n",
      "My father is one man who is very unique and different. I always feel lucky anytime I remember that he is my father knowing how he has done the very best for me in life. I always feel grateful that I have the opportunity to be his son and be a part of a wonderful family that has a great father like him. My father has shown himself to be a very peaceful and polite person. He seldom scolds me and he is always easy with me. What he tries to do is that he makes sure that I realise the mistake that I have made in a very polite way and helps me to get better and this has been working like magic for many years now.\n",
      "\n",
      "My father is the leader and head of our family. He is always there for every member of the family to help us in times when we need his advice and direction in taking decisions. Anytime we have a problem, we take it to him, he tries to help us by sharing some of the problems that he also faced in the past that are quite similar to our problem and how he was able to overcome them. He also shares all of his achievements and drawbacks in life and tells us to learn from them.\n",
      "\n",
      "My father has his personal online marketing business but he never insists any of his children to pursue a career in that same field so that we can take over after him. He does not even try to attract any of us to his business but he tries to teach how we can discover our own passion and fields of interest in life. He does his best to encourage us in the pursuance of our various dreams. I can boldly say that my dad is a very good dad and this is not as a result of him always helping me and being nice to me but because he shows great strength, knowledge, a good helping and nice nature. He also owns very good human relations skills.\n",
      "\n",
      "My father’s parents were very poor when he was growing up but with hard work and patience, my father was able to become very rich. He uses this as an example to encourage me to always work hard.\n",
      "\n",
      "Conclusion:\n",
      "\n",
      "I share all of my happy, sad and bad moments with him and he also does the same. He is always around to share with me all of his life experiences and how I can learn from them. My father also tells me all about his day and every event that occurred during the day. He is doing all his best to ensure that I grow up to become a very successful person that has good character and behaviour.\n",
      "\n",
      "My father always teaches me ethics, humanity and etiquettes of life that can help me in future. My father is always ready and willing to help the people who are needy around us and he tells us that giving is the most important thing in life. My father also teaches my siblings and me how to be happy, healthy and fit throughout our lives.\n",
      "\n",
      "My father has shown himself to be very good to all the members of my extended family. If anyone of us is facing a particular problem, my father is usually the first person we go to for advice and help. My father has over the years proven to be a person who has a very kind heart and I can boldly say that he is my best friend and my hero.\n"
     ]
    }
   ],
   "source": [
    "#open the text file\n",
    "txt = open('father.txt', encoding=\"utf-8\").read()\n",
    "print(txt)"
   ]
  },
  {
   "cell_type": "code",
   "execution_count": 3,
   "metadata": {},
   "outputs": [],
   "source": [
    "# converting data to lowercase, removing its punctuations and splitting text into words\n",
    "lower_case = txt.lower()\n",
    "cleaned_txt = lower_case.translate(str.maketrans('', '', string.punctuation))\n",
    "tokenized_words = word_tokenize(cleaned_txt)"
   ]
  },
  {
   "cell_type": "code",
   "execution_count": 4,
   "metadata": {},
   "outputs": [],
   "source": [
    "# Removing Stop Words\n",
    "final_words = []\n",
    "\n",
    "for word in tokenized_words:\n",
    "    if word not in stopwords.words('english'):\n",
    "        final_words.append(word)"
   ]
  },
  {
   "cell_type": "code",
   "execution_count": 5,
   "metadata": {},
   "outputs": [],
   "source": [
    "# Lemmatization - From plural to single + Base form of a word (example better-> good)\n",
    "\n",
    "lemma_words = []\n",
    "\n",
    "for word in final_words:\n",
    "    word = WordNetLemmatizer().lemmatize(word)\n",
    "    lemma_words.append(word)"
   ]
  },
  {
   "cell_type": "code",
   "execution_count": 6,
   "metadata": {},
   "outputs": [
    {
     "name": "stdout",
     "output_type": "stream",
     "text": [
      "People emotions from the text \n",
      " [' happy', ' happy', ' happy', ' codependent', ' safe', ' sad', ' happy', ' happy'] \n",
      " \n",
      "\n",
      "Count of each emotion \n",
      " Counter({' happy': 5, ' codependent': 1, ' safe': 1, ' sad': 1})\n"
     ]
    }
   ],
   "source": [
    "#Lets open the emotion document and find emotion present in our text\n",
    "emotion_list = []\n",
    "\n",
    "with open('emotions.txt', 'r') as file:\n",
    "    for line in file:\n",
    "        clear_line = line.replace(\"\\n\", '').replace(\",\", '').replace(\"'\", '').strip()\n",
    "        word, emotion = clear_line.split(':')\n",
    "\n",
    "        if word in lemma_words:\n",
    "            emotion_list.append(emotion)\n",
    "            \n",
    "print(\"People emotions from the text \\n\", emotion_list, '\\n \\n')\n",
    "\n",
    "\n",
    "w = Counter(emotion_list)\n",
    "print(\"Count of each emotion \\n\", w)"
   ]
  },
  {
   "cell_type": "code",
   "execution_count": 7,
   "metadata": {},
   "outputs": [
    {
     "data": {
      "image/png": "[encoded data removed]",
      "text/plain": [
       "<Figure size 432x288 with 1 Axes>"
      ]
     },
     "metadata": {
      "needs_background": "light"
     },
     "output_type": "display_data"
    }
   ],
   "source": [
    "fig, ax1 = plt.subplots()\n",
    "ax1.bar(w.keys(), w.values())\n",
    "fig.autofmt_xdate()\n",
    "plt.savefig('graph.png')\n",
    "plt.show()"
   ]
  },
  {
   "cell_type": "code",
   "execution_count": null,
   "metadata": {},
   "outputs": [],
   "source": []
  }
 ],
 "metadata": {
  "kernelspec": {
   "display_name": "Python 3",
   "language": "python",
   "name": "python3"
  },
  "language_info": {
   "codemirror_mode": {
    "name": "ipython",
    "version": 3
   },
   "file_extension": ".py",
   "mimetype": "text/x-python",
   "name": "python",
   "nbconvert_exporter": "python",
   "pygments_lexer": "ipython3",
   "version": "3.6.10"
  }
 },
 "nbformat": 4,
 "nbformat_minor": 4
}
