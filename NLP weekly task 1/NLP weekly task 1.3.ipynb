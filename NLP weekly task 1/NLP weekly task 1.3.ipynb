{
 "cells": [
  {
   "cell_type": "markdown",
   "metadata": {},
   "source": [
    "### 3) Pick your own document (say A) and create BOW using a count vectorizer. Use another document (say B) and identify how many words of the B document are present in the BOW of A. \n"
   ]
  },
  {
   "cell_type": "code",
   "execution_count": 1,
   "metadata": {},
   "outputs": [],
   "source": [
    "#Import required Libraries\n",
    "from nltk.corpus import stopwords\n",
    "from sklearn.feature_extraction.text import CountVectorizer "
   ]
  },
  {
   "cell_type": "code",
   "execution_count": 2,
   "metadata": {},
   "outputs": [],
   "source": [
    "#Let we have two docs as follows\n",
    "docA=['Ask not what your country can do for you; ask what you can do for your country.']\n",
    "docB=['Ask, and it shall be given you; seek, and you shall find.']"
   ]
  },
  {
   "cell_type": "code",
   "execution_count": 3,
   "metadata": {},
   "outputs": [
    {
     "name": "stdout",
     "output_type": "stream",
     "text": [
      "{'ask': 0, 'not': 5, 'what': 6, 'your': 8, 'country': 2, 'can': 1, 'do': 3, 'for': 4, 'you': 7}\n"
     ]
    }
   ],
   "source": [
    "# without removing stop word create the transform\n",
    "vectorizer = CountVectorizer()\n",
    "# tokenize and build vocab from docA\n",
    "vectorizer.fit(docA)\n",
    "# summarize\n",
    "print(vectorizer.vocabulary_)"
   ]
  },
  {
   "cell_type": "code",
   "execution_count": 4,
   "metadata": {},
   "outputs": [
    {
     "name": "stdout",
     "output_type": "stream",
     "text": [
      "The text present at [[1 0 0 0 0 0 0 2 0]]\n"
     ]
    }
   ],
   "source": [
    "#lETS ENCODE doc B AND CHECK HOW MANY WORDS OF doc B ARE IN doc A\n",
    "vector = vectorizer.transform(docB)\n",
    "print('The text present at',vector.toarray())"
   ]
  },
  {
   "cell_type": "markdown",
   "metadata": {},
   "source": [
    "##### there are 2 common word"
   ]
  },
  {
   "cell_type": "code",
   "execution_count": 5,
   "metadata": {},
   "outputs": [
    {
     "name": "stdout",
     "output_type": "stream",
     "text": [
      "{'ask': 0, 'country': 1}\n"
     ]
    }
   ],
   "source": [
    "# Removing stop words and create the transform\n",
    "vectorizer = CountVectorizer(stop_words='english')\n",
    "# tokenize and build vocab from docA\n",
    "vectorizer.fit(list(docA))\n",
    "# summarize\n",
    "print(vectorizer.vocabulary_)"
   ]
  },
  {
   "cell_type": "code",
   "execution_count": 6,
   "metadata": {},
   "outputs": [
    {
     "name": "stdout",
     "output_type": "stream",
     "text": [
      "The text present at [[1 0]]\n"
     ]
    }
   ],
   "source": [
    "#lETS ENCODE doc B AND CHECK HOW MANY WORDS OF doc B ARE IN doc A\n",
    "vector = vectorizer.transform(docB)\n",
    "print('The text present at',vector.toarray())"
   ]
  },
  {
   "cell_type": "markdown",
   "metadata": {},
   "source": [
    "##### only 1 common word left"
   ]
  },
  {
   "cell_type": "code",
   "execution_count": null,
   "metadata": {},
   "outputs": [],
   "source": []
  }
 ],
 "metadata": {
  "kernelspec": {
   "display_name": "Python 3",
   "language": "python",
   "name": "python3"
  },
  "language_info": {
   "codemirror_mode": {
    "name": "ipython",
    "version": 3
   },
   "file_extension": ".py",
   "mimetype": "text/x-python",
   "name": "python",
   "nbconvert_exporter": "python",
   "pygments_lexer": "ipython3",
   "version": "3.6.10"
  }
 },
 "nbformat": 4,
 "nbformat_minor": 4
}
